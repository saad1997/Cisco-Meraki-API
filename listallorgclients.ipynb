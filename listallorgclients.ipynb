{
 "cells": [
  {
   "cell_type": "code",
   "execution_count": 7,
   "metadata": {},
   "outputs": [
    {
     "name": "stderr",
     "output_type": "stream",
     "text": [
      "  meraki.aio:     INFO > Meraki dashboard API session initialized with these parameters: {'self': <meraki.aio.rest_session.AsyncRestSession object at 0x000001DCBF265908>, 'logger': <Logger meraki.aio (DEBUG)>, 'api_key': '************************************dd9a', 'base_url': 'https://api.meraki.com/api/v0', 'single_request_timeout': 60, 'certificate_path': '', 'requests_proxy': '', 'wait_on_rate_limit': True, 'nginx_429_retry_wait_time': 60, 'action_batch_retry_wait_time': 60, 'retry_4xx_error': False, 'retry_4xx_error_wait_time': 60, 'maximum_retries': 2, 'simulate': False, 'maximum_concurrent_requests': 3, 'be_geo_id': None, 'caller': None, '__class__': <class 'meraki.aio.rest_session.AsyncRestSession'>}\n",
      "  meraki.aio:     INFO > Organizations, getOrganizations > https://n214.meraki.com/api/v0/organizations - 200 OK\n"
     ]
    },
    {
     "name": "stdout",
     "output_type": "stream",
     "text": [
      "Analyzing organization FWO:\n"
     ]
    },
    {
     "name": "stderr",
     "output_type": "stream",
     "text": [
      "  meraki.aio:     INFO > Networks, getOrganizationNetworks > https://n214.meraki.com/api/v0/organizations/612354243453473195/networks - 200 OK\n"
     ]
    },
    {
     "name": "stdout",
     "output_type": "stream",
     "text": [
      "Iterating through 27 networks in organization 612354243453473195\n",
      "Finding clients in network Access Points\n","
     ]
    },
    {
     "name": "stderr",
     "output_type": "stream",
     "text": [
      "  meraki.aio:     INFO > Clients, getNetworkClients; page 1 > https://n214.meraki.com/api/v0/networks/612354243453473195/clients - 200 OK\n"
     ]
    },
    {
     "name": "stdout",
     "output_type": "stream",
     "text": [
      "finished network: SHEIKHUPURA\n"
     ]
    },
    {
     "name": "stderr",
     "output_type": "stream",
     "text": [
      "  meraki.aio:     INFO > Clients, getNetworkClients; page 1 > https://n214.meraki.com/api/v0/networks/612354243453473195/clients - 200 OK\n"
     ]
    },
    {
     "name": "stdout",
     "output_type": "stream",
     "text": [
      "Successfully output 123 clients' data to file M4 Access Points.csv\n",
      "finished network: M4 Access Points\n""
     ]
    },
    {
     "name": "stderr",
     "output_type": "stream",
     "text": [
      "  meraki.aio:     INFO > Clients, getNetworkClients; page 1 > https://n214.meraki.com/api/v0/networks/612354243453473195/clients - 200 OK\n"
     ]
    },
    {
     "name": "stdout",
     "output_type": "stream",
     "text": [
      "finished network: M3STP\n"
     ]
    },
    {
     "name": "stderr",
     "output_type": "stream",
     "text": [
      "  meraki.aio:     INFO > Clients, getNetworkClients; page 1 > https://n214.meraki.com/api/v0/networks/N_683421243453502171/clients - 200 OK\n"
     ]
    },
    {
     "name": "stdout",
     "output_type": "stream",
     "text": [
      "finished network: LILLAH\n"
     ]
    },
    {
     "name": "stderr",
     "output_type": "stream",
     "text": [
      "  meraki.aio:     INFO > Clients, getNetworkClients; page 1 > https://n214.meraki.com/api/v0/networks/612354243453473195/clients - 200 OK\n"
     ]
    },
    {
     "name": "stdout",
     "output_type": "stream",
     "text": [
      "finished network: CHAKARI\n"
     ]
    },
    {
     "name": "stderr",
     "output_type": "stream",
     "text": [
      "  meraki.aio:     INFO > Clients, getNetworkClients; page 1 > https://n214.meraki.com/api/v0/networks/612354243453473195/clients - 200 OK\n"
     ]
    },
    {
     "name": "stdout",
     "output_type": "stream",
     "text": [
      "finished network: BHERA\n"
     ]
    },
    {
     "name": "stderr",
     "output_type": "stream",
     "text": [
      "  meraki.aio:     INFO > Clients, getNetworkClients; page 1 > https://n214.meraki.com/api/v0/networks/612354243453473195/clients - 200 OK\n"
     ]
    },
    {
     "name": "stdout",
     "output_type": "stream",
     "text": [
      "finished network: FAIZPUR\n"
     ]
    },
    {
     "name": "stderr",
     "output_type": "stream",
     "text": [
      "  meraki.aio:     INFO > Clients, getNetworkClients; page 1 > https://n214.meraki.com/api/v0/networks/612354243453473195/clients - 200 OK\n",
      "  meraki.aio:     INFO > Clients, getNetworkClients; page 1 > https://n214.meraki.com/api/v0/networks/612354243453473195/clients - 200 OK\n"
     ]
    },
    {
     "name": "stdout",
     "output_type": "stream",
     "text": [
      "finished network: KHANQA-DOGRAN\n",
      "Successfully output 992 clients' data to file FWO-M2-LHR.csv\n",
      "finished network: FWO-M2-LHR\n"
     ]
    },
    {
     "name": "stderr",
     "output_type": "stream",
     "text": [
      "  meraki.aio:     INFO > Clients, getNetworkClients; page 1 > https://n214.meraki.com/api/v0/networks/612354243453473195/clients - 200 OK\n",
      "  meraki.aio:     INFO > Clients, getNetworkClients; page 1 > https://n214.meraki.com/api/v0/networks/612354243453473195/clients - 200 OK\n"
     ]
    },
    {
     "name": "stdout",
     "output_type": "stream",
     "text": [
      "finished network: PINDI BHATTIAN\n",
      "finished network: RAVI\n"
     ]
    },
    {
     "name": "stderr",
     "output_type": "stream",
     "text": [
      "  meraki.aio:     INFO > Clients, getNetworkClients; page 1 > https://n214.meraki.com/api/v0/networks/612354243453473195/clients - 200 OK\n",
      "  meraki.aio:     INFO > Clients, getNetworkClients; page 1 > https://n214.meraki.com/api/v0/networks/612354243453473195/clients - 200 OK\n"
     ]
    },
    {
     "name": "stdout",
     "output_type": "stream",
     "text": [
      "finished network: SIAL\n",
      "some other error: argument of type 'URL' is not iterable\n",
      "finished network: MX84 - THALLIAN\n"
     ]
    },
    {
     "name": "stderr",
     "output_type": "stream",
     "text": [
      "  meraki.aio:     INFO > Clients, getNetworkClients; page 1 > https://n214.meraki.com/api/v0/networks/612354243453473195/clients - 200 OK\n",
      "  meraki.aio:     INFO > Clients, getNetworkClients; page 1 > https://n214.meraki.com/api/v0/networks/612354243453473195/clients - 200 OK\n"
     ]
    },
    {
     "name": "stdout",
     "output_type": "stream",
     "text": [
      "finished network: BALKASAR\n",
      "Successfully output 90 clients' data to file MX84-Peshawar.csv\n",
      "finished network: MX84-Peshawar\n"
     ]
    },
    {
     "name": "stderr",
     "output_type": "stream",
     "text": [
      "  meraki.aio:     INFO > Clients, getNetworkClients; page 1 > https://n214.meraki.com/api/v0/networks/612354243453473195/clients - 200 OK\n",
      "  meraki.aio:     INFO > Clients, getNetworkClients; page 1 > https://n214.meraki.com/api/v0/networks/612354243453473195/clients - 200 OK\n"
     ]
    },
    {
     "name": "stdout",
     "output_type": "stream",
     "text": [
      "finished network: KALA-SHAH-KAKU\n",
      "finished network: KOT-SARWAR\n"
     ]
    },
    {
     "name": "stderr",
     "output_type": "stream",
     "text": [
      "  meraki.aio:     INFO > Clients, getNetworkClients; page 1 > https://n214.meraki.com/api/v0/networks/612354243453473195/clients - 200 OK\n",
      "  meraki.aio:     INFO > Clients, getNetworkClients; page 1 > https://n214.meraki.com/api/v0/networks/612354243453473195/clients - 200 OK\n"
     ]
    },
    {
     "name": "stdout",
     "output_type": "stream",
     "text": [
      "finished network: KOT-MOMIN\n",
      "finished network: NEELA-DULLAH\n"
     ]
    },
    {
     "name": "stderr",
     "output_type": "stream",
     "text": [
      "  meraki.aio:     INFO > Clients, getNetworkClients; page 1 > https://n214.meraki.com/api/v0/networks/612354243453473195/clients - 200 OK\n"
     ]
    },
    {
     "name": "stdout",
     "output_type": "stream",
     "text": [
      "Successfully output 318 clients' data to file FWO-M4-FSD.csv\n",
      "finished network: FWO-M4-FSD\n"
     ]
    },
    {
     "name": "stderr",
     "output_type": "stream",
     "text": [
      "  meraki.aio:     INFO > Clients, getNetworkClients; page 1 > https://n214.meraki.com/api/v0/networks/612354243453473195/clients - 200 OK\n",
      "  meraki.aio:     INFO > Clients, getNetworkClients; page 1 > https://n214.meraki.com/api/v0/networks/612354243453473195/clients - 200 OK\n"
     ]
    },
    {
     "name": "stdout",
     "output_type": "stream",
     "text": [
      "finished network: KALAR-KAHAR\n",
      "finished network: FAISALABAD\n"
     ]
    },
    {
     "name": "stderr",
     "output_type": "stream",
     "text": [
      "  meraki.aio:     INFO > Clients, getNetworkClients; page 1 > https://n214.meraki.com/api/v0/networks/612354243453473195/clients - 200 OK\n"
     ]
    },
    {
     "name": "stdout",
     "output_type": "stream",
     "text": [
      "finished network: SALAM\n"
     ]
    },
    {
     "name": "stderr",
     "output_type": "stream",
     "text": [
      "  meraki.aio:     INFO > Clients, getNetworkClients; page 1 > https://n214.meraki.com/api/v0/networks/612354243453473195/clients - 200 OK\n",
      "  meraki.aio:     INFO > Clients, getNetworkClients; page 1 > https://n214.meraki.com/api/v0/networks/612354243453473195/clients - 200 OK\n"
     ]
    },
    {
     "name": "stdout",
     "output_type": "stream",
     "text": [
      "finished network: HIRAN-MINAR\n",
      "finished network: KOT-ABDUL-MALIK\n"
     ]
    },
    {
     "name": "stderr",
     "output_type": "stream",
     "text": [
      "  meraki.aio:     INFO > Clients, getNetworkClients; page 1 > https://n214.meraki.com/api/v0/networks/612354243453473195/clients - 200 OK\n",
      "  meraki.aio:     INFO > Clients, getNetworkClients; page 1 > https://n214.meraki.com/api/v0/networks/612354243453473195/clients - 200 OK\n"
     ]
    },
    {
     "name": "stdout",
     "output_type": "stream",
     "text": [
      "finished network: LSM\n",
      "Successfully output 89 clients' data to file MX-600 HQ.csv\n",
      "finished network: MX-600 HQ\n",
      "finished organization: FWO\n",
      "Script complete!\n"
     ]
    }
   ],
   "source": [
    "import csv\n",
    "from datetime import datetime\n",
    "import os\n",
    "import asyncio\n",
    "\n",
    "import meraki.aio\n",
    "import nest_asyncio\n",
    "nest_asyncio.apply()\n",
    "\n",
    "# Either input your API key below, or set an environment variable\n",
    "# for example, in Terminal on macOS:  export MERAKI_DASHBOARD_API_KEY=09sadioafaoifidoauauu3errwer2934b73\n",
    "api_key = \"Input Api Key Here\"\n",
    "\n",
    "\n",
    "async def listNetworkClients(aiomeraki: meraki.aio.AsyncDashboardAPI, folder_name, network):\n",
    "    print(f'Finding clients in network {network[\"name\"]}')\n",
    "    try:\n",
    "        # Get list of clients on network, filtering on timespan of last 14 days\n",
    "        clients = await aiomeraki.clients.getNetworkClients(\n",
    "            network[\"id\"],\n",
    "            timespan=60 * 60 * 24 * 14,\n",
    "            perPage=1000,\n",
    "            total_pages=\"all\",\n",
    "        )\n",
    "    except meraki.AsyncAPIError as e:\n",
    "        print(f\"Meraki API error: {e}\")\n",
    "    except Exception as e:\n",
    "        print(f\"some other error: {e}\")\n",
    "    else:\n",
    "        if clients:\n",
    "            # Write to file\n",
    "            file_name = f'{network[\"name\"]}.csv'\n",
    "            output_file = open(\n",
    "                f\"{folder_name}/{file_name}\", mode=\"w\", newline=\"\\n\"\n",
    "            )\n",
    "            field_names = clients[0].keys()\n",
    "            csv_writer = csv.DictWriter(\n",
    "                output_file,\n",
    "                field_names,\n",
    "                delimiter=\",\",\n",
    "                quotechar='\"',\n",
    "                quoting=csv.QUOTE_ALL,\n",
    "            )\n",
    "            csv_writer.writeheader()\n",
    "            csv_writer.writerows(clients)\n",
    "            output_file.close()\n",
    "            print(\n",
    "                f\"Successfully output {len(clients)} clients' data to file {file_name}\"\n",
    "            )\n",
    "            return network[\"name\"], field_names\n",
    "    return network[\"name\"], None\n",
    "\n",
    "\n",
    "async def listOrganization(aiomeraki: meraki.aio.AsyncDashboardAPI, org):\n",
    "    print(f'Analyzing organization {org[\"name\"]}:')\n",
    "    org_id = org[\"id\"]\n",
    "\n",
    "    # Get list of networks in organization\n",
    "    try:\n",
    "        networks = await aiomeraki.networks.getOrganizationNetworks(org_id)\n",
    "    except meraki.AsyncAPIError as e:\n",
    "        print(f\"Meraki API error: {e}\")\n",
    "        return org[\"name\"]\n",
    "    except Exception as e:\n",
    "        print(f\"some other error: {e}\")\n",
    "        return org[\"name\"]\n",
    "\n",
    "    # Create local folder\n",
    "    todays_date = f\"{datetime.now():%Y-%m-%d}\"\n",
    "    folder_name = f\"Org {org_id} clients {todays_date}\"\n",
    "    if folder_name not in os.listdir():\n",
    "        os.mkdir(folder_name)\n",
    "\n",
    "    # Iterate through networks\n",
    "    total = len(networks)\n",
    "    print(f\"Iterating through {total} networks in organization {org_id}\")\n",
    "\n",
    "    # create a list of all networks in the organization so we can call them all concurrently\n",
    "    networkClientsTasks = [listNetworkClients(aiomeraki, folder_name, net) for net in networks]\n",
    "    for task in asyncio.as_completed(networkClientsTasks):\n",
    "        networkname, field_names = await task\n",
    "        print(f\"finished network: {networkname}\")\n",
    "\n",
    "    # Stitch together one consolidated CSV per org\n",
    "    output_file = open(f\"{folder_name}.csv\", mode=\"w\", newline=\"\\n\")\n",
    "    field_names = ['id', 'mac', 'description', 'ip', 'ip6', 'ip6Local', 'user', 'firstSeen', 'lastSeen', 'manufacturer', 'os', 'recentDeviceSerial', 'recentDeviceName', 'recentDeviceMac', 'ssid', 'vlan', 'switchport', 'usage', 'status', 'notes', 'smInstalled', 'groupPolicy8021x']\n",
    "    field_names.insert(0, \"Network Name\")\n",
    "    field_names.insert(1, \"Network ID\")\n",
    "    \n",
    "    csv_writer = csv.DictWriter(\n",
    "        output_file,\n",
    "        field_names,\n",
    "        delimiter=\",\",\n",
    "        quotechar='\"',\n",
    "        quoting=csv.QUOTE_ALL,\n",
    "    )\n",
    "    csv_writer.writeheader()\n",
    "    for net in networks:\n",
    "        file_name = f'{net[\"name\"]}.csv'\n",
    "        if file_name in os.listdir(folder_name):\n",
    "            with open(f\"{folder_name}/{file_name}\") as input_file:\n",
    "                csv_reader = csv.DictReader(\n",
    "                    input_file,\n",
    "                    delimiter=\",\",\n",
    "                    quotechar='\"',\n",
    "                    quoting=csv.QUOTE_ALL,\n",
    "                )\n",
    "                next(csv_reader)\n",
    "                for row in csv_reader:\n",
    "                    row[\"Network Name\"] = net[\"name\"]\n",
    "                    row[\"Network ID\"] = net[\"id\"]\n",
    "                    csv_writer.writerow(row)\n",
    "    return org[\"name\"]\n",
    "\n",
    "\n",
    "async def main():\n",
    "    # Instantiate a Meraki dashboard API session\n",
    "    # NOTE: you have to use \"async with\" so that the session will be closed correctly at the end of the usage\n",
    "    async with meraki.aio.AsyncDashboardAPI(\n",
    "            api_key,\n",
    "            base_url=\"https://api.meraki.com/api/v0\",\n",
    "            \n",
    "            print_console=False,\n",
    "    ) as aiomeraki:\n",
    "        # Get list of organizations to which API key has access\n",
    "        organizations = await aiomeraki.organizations.getOrganizations()\n",
    "\n",
    "        # create a list of all organizations so we can call them all concurrently\n",
    "        organizationTasks = [listOrganization(aiomeraki, org) for org in organizations]\n",
    "        for task in asyncio.as_completed(organizationTasks):\n",
    "            # as_completed returns an iterator, so we just have to await the iterator and not call it\n",
    "            organizationName = await task\n",
    "            print(f\"finished organization: {organizationName}\")\n",
    "\n",
    "        print(\"Script complete!\")\n",
    "\n",
    "\n",
    "if __name__ == \"__main__\":\n",
    "    loop = asyncio.get_event_loop()\n",
    "    loop.run_until_complete(main())"
   ]
  },
  {
   "cell_type": "code",
   "execution_count": null,
   "metadata": {},
   "outputs": [],
   "source": []
  }
 ],
 "metadata": {
  "kernelspec": {
   "display_name": "Python 3",
   "language": "python",
   "name": "python3"
  },
  "language_info": {
   "codemirror_mode": {
    "name": "ipython",
    "version": 3
   },
   "file_extension": ".py",
   "mimetype": "text/x-python",
   "name": "python",
   "nbconvert_exporter": "python",
   "pygments_lexer": "ipython3",
   "version": "3.7.0"
  }
 },
 "nbformat": 4,
 "nbformat_minor": 2
}
